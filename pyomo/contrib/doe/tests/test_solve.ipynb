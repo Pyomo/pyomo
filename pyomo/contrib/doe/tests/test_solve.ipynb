{
 "cells": [
  {
   "cell_type": "code",
   "execution_count": 1,
   "id": "e1ef738a",
   "metadata": {},
   "outputs": [],
   "source": [
    "from pyomo.contrib.doe.examples.reactor_example import run_reactor_doe"
   ]
  },
  {
   "cell_type": "code",
   "execution_count": 2,
   "id": "1e4828b4",
   "metadata": {},
   "outputs": [],
   "source": [
    "ff = run_reactor_doe(\n",
    "    n_points_for_design=2,\n",
    "    compute_FIM_full_factorial=False,\n",
    "    plot_factorial_results=False,\n",
    "    save_plots=False,\n",
    "    run_optimal_doe=False,\n",
    ")\n",
    "ff_results = ff.compute_FIM_full_factorial(\n",
    "    design_ranges={\n",
    "        \"CA[0]\": [1, 1.5, 2],\n",
    "        \"T[0]\": [350, 400, 2],\n",
    "    }\n",
    ")"
   ]
  },
  {
   "cell_type": "code",
   "execution_count": 3,
   "id": "58c50f5a",
   "metadata": {},
   "outputs": [],
   "source": [
    "import numpy as np"
   ]
  },
  {
   "cell_type": "code",
   "execution_count": 4,
   "id": "473279cc",
   "metadata": {},
   "outputs": [],
   "source": [
    "log10_D_opt_expected = [float(x) for x in ff_results[\"log10 D-opt\"]]\n",
    "log10_A_opt_expected = [float(x) for x in ff_results[\"log10 A-opt\"]]\n",
    "log10_E_opt_expected = [float(x) for x in ff_results[\"log10 E-opt\"]]\n",
    "log10_ME_opt_expected = [float(x) for x in ff_results[\"log10 ME-opt\"]]\n",
    "eigval_min_expected = [float(x) for x in ff_results[\"eigval_min\"]]\n",
    "eigval_max_expected = [float(x) for x in ff_results[\"eigval_max\"]]\n",
    "det_FIM_expected = [float(x) for x in ff_results[\"det_FIM\"]]\n",
    "trace_FIM_expected = [float(x) for x in ff_results[\"trace_FIM\"]]"
   ]
  },
  {
   "cell_type": "code",
   "execution_count": 5,
   "id": "3df9f882",
   "metadata": {},
   "outputs": [
    {
     "data": {
      "text/plain": [
       "[3.7734377852467524, 5.137792359070963, 5.182167857710023, 6.546522431509408]"
      ]
     },
     "execution_count": 5,
     "metadata": {},
     "output_type": "execute_result"
    }
   ],
   "source": [
    "log10_D_opt_expected"
   ]
  },
  {
   "cell_type": "code",
   "execution_count": 6,
   "id": "d73b39b2",
   "metadata": {},
   "outputs": [
    {
     "data": {
      "text/plain": [
       "[3.5935726800929695, 3.6133186151486933, 3.945755198204365, 3.9655011332598367]"
      ]
     },
     "execution_count": 6,
     "metadata": {},
     "output_type": "execute_result"
    }
   ],
   "source": [
    "log10_A_opt_expected"
   ]
  },
  {
   "cell_type": "code",
   "execution_count": 7,
   "id": "b84bba5f",
   "metadata": {},
   "outputs": [
    {
     "data": {
      "text/plain": [
       "[-1.7201873126109162,\n",
       " -0.691340497355524,\n",
       " -1.3680047944877138,\n",
       " -0.3391579792516522]"
      ]
     },
     "execution_count": 7,
     "metadata": {},
     "output_type": "execute_result"
    }
   ],
   "source": [
    "log10_E_opt_expected"
   ]
  },
  {
   "cell_type": "code",
   "execution_count": 8,
   "id": "75a3aff9",
   "metadata": {},
   "outputs": [
    {
     "data": {
      "text/plain": [
       "[5.221185311075697, 4.244741560076784, 5.221185311062606, 4.244741560083524]"
      ]
     },
     "execution_count": 8,
     "metadata": {},
     "output_type": "execute_result"
    }
   ],
   "source": [
    "log10_ME_opt_expected"
   ]
  },
  {
   "cell_type": "code",
   "execution_count": 9,
   "id": "aa441b5c",
   "metadata": {},
   "outputs": [
    {
     "data": {
      "text/plain": [
       "[0.019046390638130666,\n",
       " 0.20354456134677426,\n",
       " 0.04285437893696232,\n",
       " 0.45797526302234304]"
      ]
     },
     "execution_count": 9,
     "metadata": {},
     "output_type": "execute_result"
    }
   ],
   "source": [
    "eigval_min_expected"
   ]
  },
  {
   "cell_type": "code",
   "execution_count": 10,
   "id": "ec0bdc18",
   "metadata": {},
   "outputs": [
    {
     "data": {
      "text/plain": [
       "[3169.552855492114, 3576.0292523637977, 7131.493924857995, 8046.0658178139165]"
      ]
     },
     "execution_count": 10,
     "metadata": {},
     "output_type": "execute_result"
    }
   ],
   "source": [
    "eigval_max_expected"
   ]
  },
  {
   "cell_type": "code",
   "execution_count": 11,
   "id": "148b371d",
   "metadata": {},
   "outputs": [
    {
     "data": {
      "text/plain": [
       "[5935.233170586055, 137338.51875774842, 152113.5345070818, 3519836.021699428]"
      ]
     },
     "execution_count": 11,
     "metadata": {},
     "output_type": "execute_result"
    }
   ],
   "source": [
    "det_FIM_expected"
   ]
  },
  {
   "cell_type": "code",
   "execution_count": 12,
   "id": "461b488d",
   "metadata": {},
   "outputs": [
    {
     "data": {
      "text/plain": [
       "[3922.5878617108597, 4105.051549241871, 8825.822688850109, 9236.36598578955]"
      ]
     },
     "execution_count": 12,
     "metadata": {},
     "output_type": "execute_result"
    }
   ],
   "source": [
    "trace_FIM_expected"
   ]
  }
 ],
 "metadata": {
  "kernelspec": {
   "display_name": "pyodev",
   "language": "python",
   "name": "python3"
  },
  "language_info": {
   "codemirror_mode": {
    "name": "ipython",
    "version": 3
   },
   "file_extension": ".py",
   "mimetype": "text/x-python",
   "name": "python",
   "nbconvert_exporter": "python",
   "pygments_lexer": "ipython3",
   "version": "3.10.13"
  }
 },
 "nbformat": 4,
 "nbformat_minor": 5
}
